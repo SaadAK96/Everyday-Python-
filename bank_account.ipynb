{
  "nbformat": 4,
  "nbformat_minor": 0,
  "metadata": {
    "colab": {
      "name": "bank_account.ipynb",
      "version": "0.3.2",
      "provenance": []
    },
    "kernelspec": {
      "name": "python3",
      "display_name": "Python 3"
    }
  },
  "cells": [
    {
      "metadata": {
        "id": "MO6J90_BWqQK",
        "colab_type": "code",
        "colab": {
          "base_uri": "https://localhost:8080/",
          "height": 35
        },
        "outputId": "703eb91b-eba5-4c78-8238-971a5f1e88ae"
      },
      "cell_type": "code",
      "source": [
        "class BankAccount(object):\n",
        "  def __init__(self, amount=0):\n",
        "    self.amount=amount\n",
        "    \n",
        "  def is_negative_balance(self):\n",
        "    return self.amount<0\n",
        "  \n",
        "my_account=BankAccount(100)\n",
        "\n",
        "if my_account.is_negative_balance():\n",
        "  print(\"oh no, I owe %s!\" %my_account.amount)\n",
        "else:\n",
        "  print(\"good! my finance are intact\")"
      ],
      "execution_count": 4,
      "outputs": [
        {
          "output_type": "stream",
          "text": [
            "good! my finance are intact\n"
          ],
          "name": "stdout"
        }
      ]
    },
    {
      "metadata": {
        "id": "usUNty8oYc1k",
        "colab_type": "code",
        "colab": {}
      },
      "cell_type": "code",
      "source": [
        ""
      ],
      "execution_count": 0,
      "outputs": []
    }
  ]
}